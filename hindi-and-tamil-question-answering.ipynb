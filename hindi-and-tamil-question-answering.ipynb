{
 "cells": [
  {
   "cell_type": "markdown",
   "metadata": {},
   "source": [
    "# Hindi and Tamil Question Answering\n",
    "\n",
    "The goal of the competition to perform Natural Language Extractive Question Answering in Hindi and Tamil languages. The train data contains 1114 samples and test set contains 5 samples. As you can see, this is a Small Dataset and it tests the transfer learning capability of Transformer Models. https://www.kaggle.com/competitions/chaii-hindi-and-tamil-question-answering"
   ]
  },
  {
   "cell_type": "code",
   "execution_count": 1,
   "metadata": {
    "execution": {
     "iopub.execute_input": "2022-04-10T19:09:49.281366Z",
     "iopub.status.busy": "2022-04-10T19:09:49.280765Z",
     "iopub.status.idle": "2022-04-10T19:09:49.291785Z",
     "shell.execute_reply": "2022-04-10T19:09:49.290865Z",
     "shell.execute_reply.started": "2022-04-10T19:09:49.281278Z"
    }
   },
   "outputs": [],
   "source": [
    "import pandas as pd\n",
    "import numpy as np"
   ]
  },
  {
   "cell_type": "code",
   "execution_count": 2,
   "metadata": {
    "execution": {
     "iopub.execute_input": "2022-04-10T19:09:49.294021Z",
     "iopub.status.busy": "2022-04-10T19:09:49.293610Z",
     "iopub.status.idle": "2022-04-10T19:09:49.779379Z",
     "shell.execute_reply": "2022-04-10T19:09:49.777735Z",
     "shell.execute_reply.started": "2022-04-10T19:09:49.293971Z"
    }
   },
   "outputs": [],
   "source": [
    "train = pd.read_csv('../input/chaii-hindi-and-tamil-question-answering/train.csv')\n",
    "train.head()"
   ]
  },
  {
   "cell_type": "code",
   "execution_count": 3,
   "metadata": {
    "execution": {
     "iopub.execute_input": "2022-04-10T19:09:49.781150Z",
     "iopub.status.busy": "2022-04-10T19:09:49.780794Z",
     "iopub.status.idle": "2022-04-10T19:09:49.788377Z",
     "shell.execute_reply": "2022-04-10T19:09:49.787387Z",
     "shell.execute_reply.started": "2022-04-10T19:09:49.781112Z"
    }
   },
   "outputs": [],
   "source": [
    "train.language.value_counts()"
   ]
  },
  {
   "cell_type": "markdown",
   "metadata": {},
   "source": [
    "The train dataset contains 746 samples in hindi and 368 samples in tamil. The presence of two languages makes this challenge slightly harder."
   ]
  },
  {
   "cell_type": "markdown",
   "metadata": {},
   "source": [
    "The test dataset contains only 5 samples."
   ]
  },
  {
   "cell_type": "code",
   "execution_count": 4,
   "metadata": {
    "execution": {
     "iopub.execute_input": "2022-04-10T19:09:49.790379Z",
     "iopub.status.busy": "2022-04-10T19:09:49.789786Z",
     "iopub.status.idle": "2022-04-10T19:09:49.812133Z",
     "shell.execute_reply": "2022-04-10T19:09:49.811427Z",
     "shell.execute_reply.started": "2022-04-10T19:09:49.790340Z"
    }
   },
   "outputs": [],
   "source": [
    "test = pd.read_csv('../input/chaii-hindi-and-tamil-question-answering/test.csv')\n",
    "test"
   ]
  },
  {
   "cell_type": "markdown",
   "metadata": {},
   "source": [
    "The model and the dataset pipeline is built referring to the code from Hugging Face course: https://github.com/huggingface/notebooks/blob/master/examples/question_answering.ipynb"
   ]
  },
  {
   "cell_type": "code",
   "execution_count": null,
   "metadata": {
    "execution": {
     "iopub.execute_input": "2022-04-10T19:09:50.427235Z",
     "iopub.status.busy": "2022-04-10T19:09:50.426808Z",
     "iopub.status.idle": "2022-04-10T19:09:50.900728Z",
     "shell.execute_reply": "2022-04-10T19:09:50.899867Z",
     "shell.execute_reply.started": "2022-04-10T19:09:50.427197Z"
    }
   },
   "outputs": [],
   "source": [
    "import transformers"
   ]
  },
  {
   "cell_type": "markdown",
   "metadata": {},
   "source": [
    "<img src=\"images/23.png\">\n",
    "Huang, Z., Low, C., Teng, M., Zhang, H., Ho, D. E., Krass, M. S., & Grabmair, M. (2021, June). Context-aware legal citation recommendation using deep learning. Proceedings of the Eighteenth International Conference on Artificial Intelligence and Law. https://doi.org/10.1145/3462757.3466066\n",
    "\n",
    "RoBERTa uses the same architecture as BER "
   ]
  },
  {
   "cell_type": "markdown",
   "metadata": {},
   "source": [
    "Multilingual Roberta model and tokenizer trained on Question-Answering dataset SQuAD 2.0 is used."
   ]
  },
  {
   "cell_type": "code",
   "execution_count": 6,
   "metadata": {
    "execution": {
     "iopub.execute_input": "2022-04-10T19:09:52.364810Z",
     "iopub.status.busy": "2022-04-10T19:09:52.364467Z",
     "iopub.status.idle": "2022-04-10T19:09:52.368801Z",
     "shell.execute_reply": "2022-04-10T19:09:52.367912Z",
     "shell.execute_reply.started": "2022-04-10T19:09:52.364778Z"
    }
   },
   "outputs": [],
   "source": [
    "model_checkpoint = '../input/xlm-roberta-squad2/deepset/xlm-roberta-base-squad2'\n",
    "batch_size = 4"
   ]
  },
  {
   "cell_type": "code",
   "execution_count": 7,
   "metadata": {
    "execution": {
     "iopub.execute_input": "2022-04-10T19:09:52.754763Z",
     "iopub.status.busy": "2022-04-10T19:09:52.754436Z",
     "iopub.status.idle": "2022-04-10T19:09:55.531701Z",
     "shell.execute_reply": "2022-04-10T19:09:55.530752Z",
     "shell.execute_reply.started": "2022-04-10T19:09:52.754731Z"
    }
   },
   "outputs": [],
   "source": [
    "from transformers import AutoTokenizer\n",
    "\n",
    "# Load the tokenizer.\n",
    "tokenizer = AutoTokenizer.from_pretrained(model_checkpoint)"
   ]
  },
  {
   "cell_type": "markdown",
   "metadata": {},
   "source": [
    "The dataset contains a context and question. The model needs to refer to the context and extract the words that represent the answer to the question."
   ]
  },
  {
   "cell_type": "code",
   "execution_count": 8,
   "metadata": {
    "execution": {
     "iopub.execute_input": "2022-04-10T19:09:55.533651Z",
     "iopub.status.busy": "2022-04-10T19:09:55.533318Z",
     "iopub.status.idle": "2022-04-10T19:10:32.214119Z",
     "shell.execute_reply": "2022-04-10T19:10:32.212646Z",
     "shell.execute_reply.started": "2022-04-10T19:09:55.533614Z"
    }
   },
   "outputs": [],
   "source": [
    "# The number of tokens in the context is high.\n",
    "train['num_tokens_context'] = train['context'].apply(lambda t: len(tokenizer(t)['input_ids']))\n",
    "train['num_tokens_context'].hist()"
   ]
  },
  {
   "cell_type": "markdown",
   "metadata": {},
   "source": [
    "If the context is larger than the max_length, the tokenizer will truncate the context. To avoid this, the context is split into multiple features if it is too long. This is some overlap between the tokens in case of the split. The reason is to avoid the splitting from reducing the model performance. For example:- If four tokens are the answer and they have been split as 2 each on two features, the model will not be able to properly answer the question with the 4 tokens. Hence, overlap is allowed to solve this issue."
   ]
  },
  {
   "cell_type": "code",
   "execution_count": 9,
   "metadata": {
    "execution": {
     "iopub.execute_input": "2022-04-10T19:10:32.216341Z",
     "iopub.status.busy": "2022-04-10T19:10:32.215962Z",
     "iopub.status.idle": "2022-04-10T19:10:32.221333Z",
     "shell.execute_reply": "2022-04-10T19:10:32.219469Z",
     "shell.execute_reply.started": "2022-04-10T19:10:32.216302Z"
    }
   },
   "outputs": [],
   "source": [
    "max_length = 384 # The maximum length of a feature (question and context)\n",
    "doc_stride = 128 # The authorized overlap between two part of the context when splitting it is needed."
   ]
  },
  {
   "cell_type": "code",
   "execution_count": 10,
   "metadata": {
    "execution": {
     "iopub.execute_input": "2022-04-10T19:10:32.223500Z",
     "iopub.status.busy": "2022-04-10T19:10:32.222893Z",
     "iopub.status.idle": "2022-04-10T19:10:32.229308Z",
     "shell.execute_reply": "2022-04-10T19:10:32.228445Z",
     "shell.execute_reply.started": "2022-04-10T19:10:32.223450Z"
    }
   },
   "outputs": [],
   "source": [
    "pad_on_right = tokenizer.padding_side == \"right\""
   ]
  },
  {
   "cell_type": "code",
   "execution_count": 11,
   "metadata": {
    "execution": {
     "iopub.execute_input": "2022-04-10T19:10:32.231397Z",
     "iopub.status.busy": "2022-04-10T19:10:32.230746Z",
     "iopub.status.idle": "2022-04-10T19:10:32.245830Z",
     "shell.execute_reply": "2022-04-10T19:10:32.244817Z",
     "shell.execute_reply.started": "2022-04-10T19:10:32.231354Z"
    }
   },
   "outputs": [],
   "source": [
    "def prepare_train_features(examples):\n",
    "    # Some of the questions have lots of whitespace on the left, which is not useful and is removed\n",
    "    examples[\"question\"] = [q.lstrip() for q in examples[\"question\"]]\n",
    "\n",
    "    # Tokenize our examples with truncation and padding. If the context is too long, it is split\n",
    "    # into multiple features with overlap. The offset mapping will allow the model to properly answer\n",
    "    # the question using the index of the context.\n",
    "    tokenized_examples = tokenizer(\n",
    "        examples[\"question\" if pad_on_right else \"context\"],\n",
    "        examples[\"context\" if pad_on_right else \"question\"],\n",
    "        truncation=\"only_second\" if pad_on_right else \"only_first\",\n",
    "        max_length=max_length,\n",
    "        stride=doc_stride,\n",
    "        return_overflowing_tokens=True,\n",
    "        return_offsets_mapping=True,\n",
    "        padding=\"max_length\",\n",
    "    )\n",
    "\n",
    "    # Since one example might give us several features if it has a long context, we need a map from a feature to\n",
    "    # its corresponding example. This key gives us just that.\n",
    "    sample_mapping = tokenized_examples.pop(\"overflow_to_sample_mapping\")\n",
    "    # The offset mappings will give us a map from token to character position in the original context. This will\n",
    "    # help us compute the start_positions and end_positions.\n",
    "    offset_mapping = tokenized_examples.pop(\"offset_mapping\")\n",
    "\n",
    "    # Let's label those examples!\n",
    "    tokenized_examples[\"start_positions\"] = []\n",
    "    tokenized_examples[\"end_positions\"] = []\n",
    "\n",
    "    for i, offsets in enumerate(offset_mapping):\n",
    "        # We will label impossible answers with the index of the CLS token.\n",
    "        input_ids = tokenized_examples[\"input_ids\"][i]\n",
    "        cls_index = input_ids.index(tokenizer.cls_token_id)\n",
    "\n",
    "        # Grab the sequence corresponding to that example (to know what is the context and what is the question).\n",
    "        sequence_ids = tokenized_examples.sequence_ids(i)\n",
    "\n",
    "        # One example can give several spans, this is the index of the example containing this span of text.\n",
    "        sample_index = sample_mapping[i]\n",
    "        answers = examples[\"answers\"][sample_index]\n",
    "        # If no answers are given, set the cls_index as answer.\n",
    "        if len(answers[\"answer_start\"]) == 0:\n",
    "            tokenized_examples[\"start_positions\"].append(cls_index)\n",
    "            tokenized_examples[\"end_positions\"].append(cls_index)\n",
    "        else:\n",
    "            # Start/end character index of the answer in the text.\n",
    "            start_char = answers[\"answer_start\"][0]\n",
    "            end_char = start_char + len(answers[\"text\"][0])\n",
    "\n",
    "            # Start token index of the current span in the text.\n",
    "            token_start_index = 0\n",
    "            while sequence_ids[token_start_index] != (1 if pad_on_right else 0):\n",
    "                token_start_index += 1\n",
    "\n",
    "            # End token index of the current span in the text.\n",
    "            token_end_index = len(input_ids) - 1\n",
    "            while sequence_ids[token_end_index] != (1 if pad_on_right else 0):\n",
    "                token_end_index -= 1\n",
    "\n",
    "            # Detect if the answer is out of the span (in which case this feature is labeled with the CLS index).\n",
    "            if not (offsets[token_start_index][0] <= start_char and offsets[token_end_index][1] >= end_char):\n",
    "                tokenized_examples[\"start_positions\"].append(cls_index)\n",
    "                tokenized_examples[\"end_positions\"].append(cls_index)\n",
    "            else:\n",
    "                # Otherwise move the token_start_index and token_end_index to the two ends of the answer.\n",
    "                # Note: we could go after the last offset if the answer is the last word (edge case).\n",
    "                while token_start_index < len(offsets) and offsets[token_start_index][0] <= start_char:\n",
    "                    token_start_index += 1\n",
    "                tokenized_examples[\"start_positions\"].append(token_start_index - 1)\n",
    "                while offsets[token_end_index][1] >= end_char:\n",
    "                    token_end_index -= 1\n",
    "                tokenized_examples[\"end_positions\"].append(token_end_index + 1)\n",
    "\n",
    "    return tokenized_examples"
   ]
  },
  {
   "cell_type": "code",
   "execution_count": 12,
   "metadata": {
    "execution": {
     "iopub.execute_input": "2022-04-10T19:10:32.247388Z",
     "iopub.status.busy": "2022-04-10T19:10:32.246949Z",
     "iopub.status.idle": "2022-04-10T19:10:40.322795Z",
     "shell.execute_reply": "2022-04-10T19:10:40.321701Z",
     "shell.execute_reply.started": "2022-04-10T19:10:32.247350Z"
    }
   },
   "outputs": [],
   "source": [
    "!pip uninstall fsspec -qq -y\n",
    "!pip install --no-index --find-links ../input/hf-datasets/wheels datasets -qq"
   ]
  },
  {
   "cell_type": "code",
   "execution_count": 13,
   "metadata": {
    "execution": {
     "iopub.execute_input": "2022-04-10T19:10:40.325529Z",
     "iopub.status.busy": "2022-04-10T19:10:40.325151Z",
     "iopub.status.idle": "2022-04-10T19:10:40.602952Z",
     "shell.execute_reply": "2022-04-10T19:10:40.602130Z",
     "shell.execute_reply.started": "2022-04-10T19:10:40.325486Z"
    }
   },
   "outputs": [],
   "source": [
    "from datasets import Dataset"
   ]
  },
  {
   "cell_type": "code",
   "execution_count": 14,
   "metadata": {
    "execution": {
     "iopub.execute_input": "2022-04-10T19:10:40.606077Z",
     "iopub.status.busy": "2022-04-10T19:10:40.605707Z",
     "iopub.status.idle": "2022-04-10T19:10:40.611297Z",
     "shell.execute_reply": "2022-04-10T19:10:40.610440Z",
     "shell.execute_reply.started": "2022-04-10T19:10:40.606039Z"
    }
   },
   "outputs": [],
   "source": [
    "# A function for converting the answer to a better format.\n",
    "def convert_answers(r):\n",
    "    start = r[0]\n",
    "    text = r[1]\n",
    "    return {\n",
    "        'answer_start': [start],\n",
    "        'text': [text]\n",
    "    }"
   ]
  },
  {
   "cell_type": "code",
   "execution_count": 15,
   "metadata": {
    "execution": {
     "iopub.execute_input": "2022-04-10T19:10:40.613271Z",
     "iopub.status.busy": "2022-04-10T19:10:40.612916Z",
     "iopub.status.idle": "2022-04-10T19:10:40.643839Z",
     "shell.execute_reply": "2022-04-10T19:10:40.643136Z",
     "shell.execute_reply.started": "2022-04-10T19:10:40.613236Z"
    }
   },
   "outputs": [],
   "source": [
    "# Converting the answer in the train dataset.\n",
    "train = train.sample(frac=1, random_state=42)\n",
    "train['answers'] = train[['answer_start', 'answer_text']].apply(convert_answers, axis=1)"
   ]
  },
  {
   "cell_type": "code",
   "execution_count": 16,
   "metadata": {
    "execution": {
     "iopub.execute_input": "2022-04-10T19:10:40.645612Z",
     "iopub.status.busy": "2022-04-10T19:10:40.645032Z",
     "iopub.status.idle": "2022-04-10T19:10:40.650932Z",
     "shell.execute_reply": "2022-04-10T19:10:40.650159Z",
     "shell.execute_reply.started": "2022-04-10T19:10:40.645575Z"
    }
   },
   "outputs": [],
   "source": [
    "# The last 64 samples are used for validation set.\n",
    "df_train = train[:-64].reset_index(drop=True)\n",
    "df_valid = train[-64:].reset_index(drop=True)"
   ]
  },
  {
   "cell_type": "code",
   "execution_count": 17,
   "metadata": {
    "execution": {
     "iopub.execute_input": "2022-04-10T19:10:40.652873Z",
     "iopub.status.busy": "2022-04-10T19:10:40.652413Z",
     "iopub.status.idle": "2022-04-10T19:10:40.718166Z",
     "shell.execute_reply": "2022-04-10T19:10:40.717305Z",
     "shell.execute_reply.started": "2022-04-10T19:10:40.652838Z"
    }
   },
   "outputs": [],
   "source": [
    "# Converting the dataset to proper format from pandas csv file\n",
    "train_dataset = Dataset.from_pandas(df_train)\n",
    "valid_dataset = Dataset.from_pandas(df_valid)"
   ]
  },
  {
   "cell_type": "code",
   "execution_count": 18,
   "metadata": {
    "execution": {
     "iopub.execute_input": "2022-04-10T19:10:40.719704Z",
     "iopub.status.busy": "2022-04-10T19:10:40.719350Z",
     "iopub.status.idle": "2022-04-10T19:10:40.726409Z",
     "shell.execute_reply": "2022-04-10T19:10:40.725330Z",
     "shell.execute_reply.started": "2022-04-10T19:10:40.719668Z"
    }
   },
   "outputs": [],
   "source": [
    "train_dataset[0]"
   ]
  },
  {
   "cell_type": "code",
   "execution_count": 19,
   "metadata": {
    "execution": {
     "iopub.execute_input": "2022-04-10T19:10:40.728377Z",
     "iopub.status.busy": "2022-04-10T19:10:40.727777Z",
     "iopub.status.idle": "2022-04-10T19:11:18.671303Z",
     "shell.execute_reply": "2022-04-10T19:11:18.670418Z",
     "shell.execute_reply.started": "2022-04-10T19:10:40.728339Z"
    }
   },
   "outputs": [],
   "source": [
    "# Using map to use prepare train function that was defined earlier.\n",
    "tokenized_train_ds = train_dataset.map(prepare_train_features, batched=True, remove_columns=train_dataset.column_names)\n",
    "tokenized_valid_ds = valid_dataset.map(prepare_train_features, batched=True, remove_columns=train_dataset.column_names)"
   ]
  },
  {
   "cell_type": "code",
   "execution_count": 20,
   "metadata": {
    "execution": {
     "iopub.execute_input": "2022-04-10T19:11:18.673253Z",
     "iopub.status.busy": "2022-04-10T19:11:18.672680Z",
     "iopub.status.idle": "2022-04-10T19:11:23.293747Z",
     "shell.execute_reply": "2022-04-10T19:11:23.292849Z",
     "shell.execute_reply.started": "2022-04-10T19:11:18.673213Z"
    }
   },
   "outputs": [],
   "source": [
    "from transformers import AutoModelForQuestionAnswering, TrainingArguments, Trainer\n",
    "\n",
    "# Multilingual Roberta model trained on Question-Answering dataset SQuAD 2.0 is used.\n",
    "model = AutoModelForQuestionAnswering.from_pretrained(model_checkpoint)"
   ]
  },
  {
   "cell_type": "code",
   "execution_count": 21,
   "metadata": {
    "execution": {
     "iopub.execute_input": "2022-04-10T19:11:23.295575Z",
     "iopub.status.busy": "2022-04-10T19:11:23.295185Z",
     "iopub.status.idle": "2022-04-10T19:11:23.301684Z",
     "shell.execute_reply": "2022-04-10T19:11:23.300711Z",
     "shell.execute_reply.started": "2022-04-10T19:11:23.295532Z"
    }
   },
   "outputs": [],
   "source": [
    "# WANDB is disabled\n",
    "%env WANDB_DISABLED=True"
   ]
  },
  {
   "cell_type": "code",
   "execution_count": 26,
   "metadata": {
    "execution": {
     "iopub.execute_input": "2022-04-10T19:12:12.944053Z",
     "iopub.status.busy": "2022-04-10T19:12:12.943698Z",
     "iopub.status.idle": "2022-04-10T19:12:12.956312Z",
     "shell.execute_reply": "2022-04-10T19:12:12.955251Z",
     "shell.execute_reply.started": "2022-04-10T19:12:12.943994Z"
    }
   },
   "outputs": [],
   "source": [
    "# Thr args used for training the models\n",
    "args = TrainingArguments(\n",
    "    f\"chaii-qa\",\n",
    "    evaluation_strategy = \"epoch\",\n",
    "    save_strategy = \"epoch\",\n",
    "    learning_rate=3e-5,\n",
    "    warmup_ratio=0.1,\n",
    "    gradient_accumulation_steps=8,\n",
    "    per_device_train_batch_size=batch_size,\n",
    "    per_device_eval_batch_size=batch_size,\n",
    "    num_train_epochs=5,\n",
    "    weight_decay=0.01,\n",
    ")"
   ]
  },
  {
   "cell_type": "code",
   "execution_count": 27,
   "metadata": {
    "execution": {
     "iopub.execute_input": "2022-04-10T19:12:14.860113Z",
     "iopub.status.busy": "2022-04-10T19:12:14.859702Z",
     "iopub.status.idle": "2022-04-10T19:12:14.864553Z",
     "shell.execute_reply": "2022-04-10T19:12:14.863694Z",
     "shell.execute_reply.started": "2022-04-10T19:12:14.860074Z"
    }
   },
   "outputs": [],
   "source": [
    "from transformers import default_data_collator\n",
    "\n",
    "# Data Collator is used to form batches of data.\n",
    "data_collator = default_data_collator"
   ]
  },
  {
   "cell_type": "code",
   "execution_count": 28,
   "metadata": {
    "execution": {
     "iopub.execute_input": "2022-04-10T19:12:17.246239Z",
     "iopub.status.busy": "2022-04-10T19:12:17.245776Z",
     "iopub.status.idle": "2022-04-10T19:12:17.723682Z",
     "shell.execute_reply": "2022-04-10T19:12:17.722510Z",
     "shell.execute_reply.started": "2022-04-10T19:12:17.246194Z"
    }
   },
   "outputs": [],
   "source": [
    "# Trainer to train the model.\n",
    "trainer = Trainer(\n",
    "    model,\n",
    "    args,\n",
    "    train_dataset=tokenized_train_ds,\n",
    "    eval_dataset=tokenized_valid_ds,\n",
    "    data_collator=data_collator,\n",
    "    tokenizer=tokenizer,\n",
    ")"
   ]
  },
  {
   "cell_type": "code",
   "execution_count": 29,
   "metadata": {
    "execution": {
     "iopub.execute_input": "2022-04-10T19:12:18.930053Z",
     "iopub.status.busy": "2022-04-10T19:12:18.929679Z",
     "iopub.status.idle": "2022-04-10T20:13:16.642148Z",
     "shell.execute_reply": "2022-04-10T20:13:16.641102Z",
     "shell.execute_reply.started": "2022-04-10T19:12:18.929995Z"
    }
   },
   "outputs": [],
   "source": [
    "# Train the model\n",
    "trainer.train()"
   ]
  },
  {
   "cell_type": "code",
   "execution_count": 30,
   "metadata": {
    "execution": {
     "iopub.execute_input": "2022-04-10T20:27:44.668752Z",
     "iopub.status.busy": "2022-04-10T20:27:44.668331Z",
     "iopub.status.idle": "2022-04-10T20:27:49.610089Z",
     "shell.execute_reply": "2022-04-10T20:27:49.609093Z",
     "shell.execute_reply.started": "2022-04-10T20:27:44.668716Z"
    }
   },
   "outputs": [],
   "source": [
    "# Save the trained model\n",
    "trainer.save_model(\"chaii-roberta-trained\")"
   ]
  },
  {
   "cell_type": "code",
   "execution_count": 31,
   "metadata": {
    "execution": {
     "iopub.execute_input": "2022-04-10T20:27:56.138114Z",
     "iopub.status.busy": "2022-04-10T20:27:56.137737Z",
     "iopub.status.idle": "2022-04-10T20:27:56.176091Z",
     "shell.execute_reply": "2022-04-10T20:27:56.175096Z",
     "shell.execute_reply.started": "2022-04-10T20:27:56.138075Z"
    }
   },
   "outputs": [],
   "source": [
    "# Prepare the validation set.\n",
    "def prepare_validation_features(examples):\n",
    "    # Some of the questions have lots of whitespace on the left, which is not useful and will make the\n",
    "    # truncation of the context fail (the tokenized question will take a lots of space). So we remove that\n",
    "    # left whitespace\n",
    "    examples[\"question\"] = [q.lstrip() for q in examples[\"question\"]]\n",
    "\n",
    "    # Tokenize our examples with truncation and maybe padding, but keep the overflows using a stride. This results\n",
    "    # in one example possible giving several features when a context is long, each of those features having a\n",
    "    # context that overlaps a bit with the context of the previous feature.\n",
    "    tokenized_examples = tokenizer(\n",
    "        examples[\"question\" if pad_on_right else \"context\"],\n",
    "        examples[\"context\" if pad_on_right else \"question\"],\n",
    "        truncation=\"only_second\" if pad_on_right else \"only_first\",\n",
    "        max_length=max_length,\n",
    "        stride=doc_stride,\n",
    "        return_overflowing_tokens=True,\n",
    "        return_offsets_mapping=True,\n",
    "        padding=\"max_length\",\n",
    "    )\n",
    "\n",
    "    # Since one example might give us several features if it has a long context, we need a map from a feature to\n",
    "    # its corresponding example. This key gives us just that.\n",
    "    sample_mapping = tokenized_examples.pop(\"overflow_to_sample_mapping\")\n",
    "\n",
    "    # We keep the example_id that gave us this feature and we will store the offset mappings.\n",
    "    tokenized_examples[\"example_id\"] = []\n",
    "\n",
    "    for i in range(len(tokenized_examples[\"input_ids\"])):\n",
    "        # Grab the sequence corresponding to that example (to know what is the context and what is the question).\n",
    "        sequence_ids = tokenized_examples.sequence_ids(i)\n",
    "        context_index = 1 if pad_on_right else 0\n",
    "\n",
    "        # One example can give several spans, this is the index of the example containing this span of text.\n",
    "        sample_index = sample_mapping[i]\n",
    "        tokenized_examples[\"example_id\"].append(examples[\"id\"][sample_index])\n",
    "\n",
    "        # Set to None the offset_mapping that are not part of the context so it's easy to determine if a token\n",
    "        # position is part of the context or not.\n",
    "        tokenized_examples[\"offset_mapping\"][i] = [\n",
    "            (o if sequence_ids[k] == context_index else None)\n",
    "            for k, o in enumerate(tokenized_examples[\"offset_mapping\"][i])\n",
    "        ]\n",
    "\n",
    "    return tokenized_examples"
   ]
  },
  {
   "cell_type": "code",
   "execution_count": 32,
   "metadata": {
    "execution": {
     "iopub.execute_input": "2022-04-10T20:28:00.053361Z",
     "iopub.status.busy": "2022-04-10T20:28:00.052923Z",
     "iopub.status.idle": "2022-04-10T20:28:04.677918Z",
     "shell.execute_reply": "2022-04-10T20:28:04.676895Z",
     "shell.execute_reply.started": "2022-04-10T20:28:00.053321Z"
    }
   },
   "outputs": [],
   "source": [
    "# Using map to use prepare validation function that was defined earlier.\n",
    "validation_features = valid_dataset.map(\n",
    "    prepare_validation_features,\n",
    "    batched=True,\n",
    "    remove_columns=valid_dataset.column_names\n",
    ")"
   ]
  },
  {
   "cell_type": "code",
   "execution_count": 33,
   "metadata": {
    "execution": {
     "iopub.execute_input": "2022-04-10T20:28:04.687474Z",
     "iopub.status.busy": "2022-04-10T20:28:04.685173Z",
     "iopub.status.idle": "2022-04-10T20:28:06.201125Z",
     "shell.execute_reply": "2022-04-10T20:28:06.200133Z",
     "shell.execute_reply.started": "2022-04-10T20:28:04.687442Z"
    }
   },
   "outputs": [],
   "source": [
    "# Remove example_id and offset_mapping columns.\n",
    "valid_feats_small = validation_features.map(lambda example: example, remove_columns=['example_id', 'offset_mapping'])\n",
    "valid_feats_small"
   ]
  },
  {
   "cell_type": "code",
   "execution_count": 34,
   "metadata": {
    "execution": {
     "iopub.execute_input": "2022-04-10T20:28:06.203842Z",
     "iopub.status.busy": "2022-04-10T20:28:06.203443Z",
     "iopub.status.idle": "2022-04-10T20:28:20.532157Z",
     "shell.execute_reply": "2022-04-10T20:28:20.531110Z",
     "shell.execute_reply.started": "2022-04-10T20:28:06.203802Z"
    }
   },
   "outputs": [],
   "source": [
    "# Using the trained model to make predictions on the validation set.\n",
    "raw_predictions = trainer.predict(valid_feats_small)"
   ]
  },
  {
   "cell_type": "code",
   "execution_count": 35,
   "metadata": {
    "execution": {
     "iopub.execute_input": "2022-04-10T20:28:20.540216Z",
     "iopub.status.busy": "2022-04-10T20:28:20.536727Z",
     "iopub.status.idle": "2022-04-10T20:28:20.544276Z",
     "shell.execute_reply": "2022-04-10T20:28:20.542793Z",
     "shell.execute_reply.started": "2022-04-10T20:28:20.540183Z"
    }
   },
   "outputs": [],
   "source": [
    "# Maximum length of the answer.\n",
    "max_answer_length = 30"
   ]
  },
  {
   "cell_type": "code",
   "execution_count": 36,
   "metadata": {
    "execution": {
     "iopub.execute_input": "2022-04-10T20:30:00.588084Z",
     "iopub.status.busy": "2022-04-10T20:30:00.587663Z",
     "iopub.status.idle": "2022-04-10T20:30:02.186372Z",
     "shell.execute_reply": "2022-04-10T20:30:02.185327Z",
     "shell.execute_reply.started": "2022-04-10T20:30:00.588046Z"
    }
   },
   "outputs": [],
   "source": [
    "# Formatting the validation outputs for postprocessing.\n",
    "import collections\n",
    "\n",
    "examples = valid_dataset\n",
    "features = validation_features\n",
    "\n",
    "example_id_to_index = {k: i for i, k in enumerate(examples[\"id\"])}\n",
    "features_per_example = collections.defaultdict(list)\n",
    "for i, feature in enumerate(features):\n",
    "    features_per_example[example_id_to_index[feature[\"example_id\"]]].append(i)"
   ]
  },
  {
   "cell_type": "markdown",
   "metadata": {},
   "source": [
    "Pipeline for postprocessing is shown below. If context is too long, it is split into multiple features. Each of the features that were created by splitting the large context will yield a logits corresponding to the start and end token which is then converted to answer. I goal of the postprocessing step is to select one answer from the multiple answers that were selected by the multiple features. \n",
    "The pipeline is shown in the image below. \n",
    "\n",
    "<img src=\"images/21.png\">\n",
    "https://www.youtube.com/watch?v=BNy08iIWVJM"
   ]
  },
  {
   "cell_type": "code",
   "execution_count": 37,
   "metadata": {
    "execution": {
     "iopub.execute_input": "2022-04-10T20:30:02.195145Z",
     "iopub.status.busy": "2022-04-10T20:30:02.191124Z",
     "iopub.status.idle": "2022-04-10T20:30:02.212293Z",
     "shell.execute_reply": "2022-04-10T20:30:02.211168Z",
     "shell.execute_reply.started": "2022-04-10T20:30:02.195115Z"
    }
   },
   "outputs": [],
   "source": [
    "from tqdm.auto import tqdm\n",
    "\n",
    "def postprocess_qa_predictions(examples, features, raw_predictions, n_best_size = 20, max_answer_length = 30):\n",
    "    all_start_logits, all_end_logits = raw_predictions\n",
    "    # Map the example to its corresponding features which were created by splitting the large context.\n",
    "    example_id_to_index = {k: i for i, k in enumerate(examples[\"id\"])}\n",
    "    features_per_example = collections.defaultdict(list)\n",
    "    for i, feature in enumerate(features):\n",
    "        features_per_example[example_id_to_index[feature[\"example_id\"]]].append(i)\n",
    "\n",
    "    # The dictionaries we have to fill.\n",
    "    predictions = collections.OrderedDict()\n",
    "\n",
    "    # Logging.\n",
    "    print(f\"Post-processing {len(examples)} example predictions split into {len(features)} features.\")\n",
    "\n",
    "    # Let's loop over all the examples!\n",
    "    for example_index, example in enumerate(tqdm(examples)):\n",
    "        # Those are the indices of the features associated to the current example.\n",
    "        feature_indices = features_per_example[example_index]\n",
    "\n",
    "        min_null_score = None\n",
    "        valid_answers = []\n",
    "        \n",
    "        context = example[\"context\"]\n",
    "        # Looping through all the features associated to the current example.\n",
    "        for feature_index in feature_indices:\n",
    "            # We grab the predictions of the model for this feature.\n",
    "            start_logits = all_start_logits[feature_index]\n",
    "            end_logits = all_end_logits[feature_index]\n",
    "            # This is what will allow us to map some the positions in our logits to span of texts in the original\n",
    "            # context.\n",
    "            offset_mapping = features[feature_index][\"offset_mapping\"]\n",
    "\n",
    "            # Update minimum null prediction.\n",
    "            cls_index = features[feature_index][\"input_ids\"].index(tokenizer.cls_token_id)\n",
    "            feature_null_score = start_logits[cls_index] + end_logits[cls_index]\n",
    "            if min_null_score is None or min_null_score < feature_null_score:\n",
    "                min_null_score = feature_null_score\n",
    "\n",
    "            # Go through all possibilities for the `n_best_size` greater start and end logits.\n",
    "            start_indexes = np.argsort(start_logits)[-1 : -n_best_size - 1 : -1].tolist()\n",
    "            end_indexes = np.argsort(end_logits)[-1 : -n_best_size - 1 : -1].tolist()\n",
    "            for start_index in start_indexes:\n",
    "                for end_index in end_indexes:\n",
    "                    # Don't consider out-of-scope answers, either because the indices are out of bounds or correspond\n",
    "                    # to part of the input_ids that are not in the context.\n",
    "                    if (\n",
    "                        start_index >= len(offset_mapping)\n",
    "                        or end_index >= len(offset_mapping)\n",
    "                        or offset_mapping[start_index] is None\n",
    "                        or offset_mapping[end_index] is None\n",
    "                    ):\n",
    "                        continue\n",
    "                    # Don't consider answers with a length that is either < 0 or > max_answer_length.\n",
    "                    if end_index < start_index or end_index - start_index + 1 > max_answer_length:\n",
    "                        continue\n",
    "\n",
    "                    start_char = offset_mapping[start_index][0]\n",
    "                    end_char = offset_mapping[end_index][1]\n",
    "                    valid_answers.append(\n",
    "                        {\n",
    "                            \"score\": start_logits[start_index] + end_logits[end_index],\n",
    "                            \"text\": context[start_char: end_char]\n",
    "                        }\n",
    "                    )\n",
    "        \n",
    "        if len(valid_answers) > 0:\n",
    "            best_answer = sorted(valid_answers, key=lambda x: x[\"score\"], reverse=True)[0]\n",
    "        else:\n",
    "            # In the very rare edge case we have not a single non-null prediction, we create a fake prediction to avoid\n",
    "            # failure.\n",
    "            best_answer = {\"text\": \"\", \"score\": 0.0}\n",
    "        \n",
    "        # Let's pick our final answer: the best one or the null answer (only for squad_v2)\n",
    "        predictions[example[\"id\"]] = best_answer[\"text\"]\n",
    "\n",
    "    return predictions"
   ]
  },
  {
   "cell_type": "code",
   "execution_count": 38,
   "metadata": {
    "execution": {
     "iopub.execute_input": "2022-04-10T20:30:02.978144Z",
     "iopub.status.busy": "2022-04-10T20:30:02.977802Z",
     "iopub.status.idle": "2022-04-10T20:30:07.536987Z",
     "shell.execute_reply": "2022-04-10T20:30:07.535946Z",
     "shell.execute_reply.started": "2022-04-10T20:30:02.978112Z"
    }
   },
   "outputs": [],
   "source": [
    "# Use the postpocessing function to get the predicted answer\n",
    "final_predictions = postprocess_qa_predictions(valid_dataset, validation_features, raw_predictions.predictions)"
   ]
  },
  {
   "cell_type": "code",
   "execution_count": 39,
   "metadata": {
    "execution": {
     "iopub.execute_input": "2022-04-10T20:30:07.539398Z",
     "iopub.status.busy": "2022-04-10T20:30:07.539052Z",
     "iopub.status.idle": "2022-04-10T20:30:07.561364Z",
     "shell.execute_reply": "2022-04-10T20:30:07.560481Z",
     "shell.execute_reply.started": "2022-04-10T20:30:07.539361Z"
    }
   },
   "outputs": [],
   "source": [
    "references = [{\"id\": ex[\"id\"], \"answer\": ex[\"answers\"]['text'][0]} for ex in valid_dataset]"
   ]
  },
  {
   "cell_type": "markdown",
   "metadata": {},
   "source": [
    "<img src=\"images/22.png\">\n",
    "https://medium.com/data-science-bootcamp/understand-jaccard-index-jaccard-similarity-in-minutes-25a703fbf9d7"
   ]
  },
  {
   "cell_type": "code",
   "execution_count": 40,
   "metadata": {
    "execution": {
     "iopub.execute_input": "2022-04-10T20:30:07.563642Z",
     "iopub.status.busy": "2022-04-10T20:30:07.563237Z",
     "iopub.status.idle": "2022-04-10T20:30:07.572677Z",
     "shell.execute_reply": "2022-04-10T20:30:07.571711Z",
     "shell.execute_reply.started": "2022-04-10T20:30:07.563605Z"
    }
   },
   "outputs": [],
   "source": [
    "# Compute the jaccard score.\n",
    "def jaccard(row): \n",
    "    str1 = row[0]\n",
    "    str2 = row[1]\n",
    "    a = set(str1.lower().split()) \n",
    "    b = set(str2.lower().split())\n",
    "    c = a.intersection(b)\n",
    "    return float(len(c)) / (len(a) + len(b) - len(c))"
   ]
  },
  {
   "cell_type": "code",
   "execution_count": 41,
   "metadata": {
    "execution": {
     "iopub.execute_input": "2022-04-10T20:30:07.574960Z",
     "iopub.status.busy": "2022-04-10T20:30:07.574429Z",
     "iopub.status.idle": "2022-04-10T20:30:07.602212Z",
     "shell.execute_reply": "2022-04-10T20:30:07.601097Z",
     "shell.execute_reply.started": "2022-04-10T20:30:07.574922Z"
    }
   },
   "outputs": [],
   "source": [
    "res = pd.DataFrame(references)\n",
    "res['prediction'] = res['id'].apply(lambda r: final_predictions[r])\n",
    "res['jaccard'] = res[['answer', 'prediction']].apply(jaccard, axis=1)\n",
    "res"
   ]
  },
  {
   "cell_type": "code",
   "execution_count": 53,
   "metadata": {
    "execution": {
     "iopub.execute_input": "2022-04-10T20:42:11.957572Z",
     "iopub.status.busy": "2022-04-10T20:42:11.956946Z",
     "iopub.status.idle": "2022-04-10T20:42:11.967167Z",
     "shell.execute_reply": "2022-04-10T20:42:11.965948Z",
     "shell.execute_reply.started": "2022-04-10T20:42:11.957535Z"
    }
   },
   "outputs": [],
   "source": [
    "res.jaccard.mean()"
   ]
  }
 ],
 "metadata": {
  "kernelspec": {
   "display_name": "Python 3",
   "language": "python",
   "name": "python3"
  },
  "language_info": {
   "codemirror_mode": {
    "name": "ipython",
    "version": 3
   },
   "file_extension": ".py",
   "mimetype": "text/x-python",
   "name": "python",
   "nbconvert_exporter": "python",
   "pygments_lexer": "ipython3",
   "version": "3.7.3"
  }
 },
 "nbformat": 4,
 "nbformat_minor": 4
}
